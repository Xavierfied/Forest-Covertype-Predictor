{
 "cells": [
  {
   "cell_type": "code",
   "id": "acf826578a0a48cb",
   "metadata": {
    "ExecuteTime": {
     "end_time": "2025-09-19T16:01:09.316943Z",
     "start_time": "2025-09-19T16:01:09.312790Z"
    }
   },
   "source": [
    "import numpy as np\n",
    "import pandas as pd\n",
    "import matplotlib.pyplot as plt\n",
    "import seaborn as sns\n",
    "from xgboost import XGBClassifier\n",
    "from scipy.stats import randint as sp_randint\n",
    "import joblib"
   ],
   "execution_count": 47,
   "outputs": []
  },
  {
   "cell_type": "code",
   "id": "1b402108a33bf1f4",
   "metadata": {
    "ExecuteTime": {
     "end_time": "2025-09-19T15:53:11.132747Z",
     "start_time": "2025-09-19T15:53:11.127848Z"
    }
   },
   "source": [
    "from sklearn.model_selection import train_test_split\n",
    "from sklearn.preprocessing import RobustScaler\n",
    "from sklearn.ensemble import RandomForestClassifier\n",
    "from sklearn.compose import ColumnTransformer\n",
    "from sklearn.metrics import confusion_matrix, classification_report\n",
    "from sklearn.model_selection import RandomizedSearchCV\n",
    "from sklearn.pipeline import Pipeline"
   ],
   "execution_count": 35,
   "outputs": []
  },
  {
   "cell_type": "markdown",
   "id": "2584d9d2211cc006",
   "metadata": {},
   "source": [
    "________\n",
    "# Data Initializing \n",
    "________"
   ]
  },
  {
   "cell_type": "code",
   "id": "initial_id",
   "metadata": {
    "ExecuteTime": {
     "end_time": "2025-09-19T13:38:44.793848Z",
     "start_time": "2025-09-19T13:38:44.790619Z"
    }
   },
   "source": [
    "DATA = \"covertype.csv\""
   ],
   "execution_count": 4,
   "outputs": []
  },
  {
   "cell_type": "code",
   "id": "c896225acb84949b",
   "metadata": {
    "ExecuteTime": {
     "end_time": "2025-09-19T13:38:46.714680Z",
     "start_time": "2025-09-19T13:38:44.957860Z"
    }
   },
   "source": [
    "df = pd.read_csv(DATA)"
   ],
   "execution_count": 5,
   "outputs": []
  },
  {
   "cell_type": "code",
   "id": "f9532299fd97f17a",
   "metadata": {
    "ExecuteTime": {
     "end_time": "2025-09-19T13:38:46.719048Z",
     "start_time": "2025-09-19T13:38:46.715686Z"
    }
   },
   "source": [
    "all_columns = df.columns"
   ],
   "execution_count": 6,
   "outputs": []
  },
  {
   "cell_type": "code",
   "id": "6d9f691546676ecf",
   "metadata": {
    "ExecuteTime": {
     "end_time": "2025-09-19T13:38:46.741001Z",
     "start_time": "2025-09-19T13:38:46.720064Z"
    }
   },
   "source": [
    "df.head()"
   ],
   "execution_count": 7,
   "outputs": []
  },
  {
   "cell_type": "code",
   "id": "91233dc46e4ad5cd",
   "metadata": {
    "ExecuteTime": {
     "end_time": "2025-09-19T13:38:47.563430Z",
     "start_time": "2025-09-19T13:38:46.743005Z"
    }
   },
   "source": [
    "print(\"\\nDescriptive statistics for numerical features:\")\n",
    "print(df.describe())"
   ],
   "execution_count": 8,
   "outputs": []
  },
  {
   "cell_type": "code",
   "id": "5da8524fb7cddfa7",
   "metadata": {
    "ExecuteTime": {
     "end_time": "2025-09-19T13:38:47.574369Z",
     "start_time": "2025-09-19T13:38:47.564441Z"
    }
   },
   "source": [
    "# Assuming your target variable is the last column\n",
    "target_column_index = df.shape[1] - 1\n",
    "print(\"\\nClass distribution of the target variable:\")\n",
    "print(df.iloc[:, target_column_index].value_counts())"
   ],
   "execution_count": 9,
   "outputs": []
  },
  {
   "cell_type": "code",
   "id": "f04685efb8600ad5",
   "metadata": {
    "scrolled": true,
    "ExecuteTime": {
     "end_time": "2025-09-19T13:38:47.614379Z",
     "start_time": "2025-09-19T13:38:47.575381Z"
    }
   },
   "source": [
    "missing_values = df.isnull().sum()\n",
    "missing_values"
   ],
   "execution_count": 10,
   "outputs": []
  },
  {
   "cell_type": "markdown",
   "id": "88b9e980a04a35a7",
   "metadata": {},
   "source": [
    "\n",
    "________\n",
    "# Scaling the Data \n",
    "________"
   ]
  },
  {
   "cell_type": "code",
   "id": "f64c1f858844d86",
   "metadata": {
    "ExecuteTime": {
     "end_time": "2025-09-19T13:38:51.304673Z",
     "start_time": "2025-09-19T13:38:51.300200Z"
    }
   },
   "source": [
    "# Splitting the Data into Input Feature and Result Feature \n",
    "X = df.iloc[:, :-1]\n",
    "y = df.iloc[:, -1]"
   ],
   "execution_count": 11,
   "outputs": []
  },
  {
   "metadata": {
    "ExecuteTime": {
     "end_time": "2025-09-19T13:38:51.645203Z",
     "start_time": "2025-09-19T13:38:51.612154Z"
    }
   },
   "cell_type": "code",
   "source": "print(X,'\\n',y)",
   "id": "6b7d90cbaa278651",
   "execution_count": 12,
   "outputs": []
  },
  {
   "metadata": {
    "ExecuteTime": {
     "end_time": "2025-09-19T13:38:52.831014Z",
     "start_time": "2025-09-19T13:38:52.827672Z"
    }
   },
   "cell_type": "code",
   "source": "numerical_features = X.columns[:10]",
   "id": "eeb4770113fa7448",
   "execution_count": 13,
   "outputs": []
  },
  {
   "metadata": {
    "ExecuteTime": {
     "end_time": "2025-09-19T13:38:54.611910Z",
     "start_time": "2025-09-19T13:38:54.608767Z"
    }
   },
   "cell_type": "code",
   "source": [
    "preprocessor = ColumnTransformer(\n",
    "    transformers=[\n",
    "        ('robust', RobustScaler(), numerical_features)\n",
    "    ],\n",
    "    remainder='passthrough'\n",
    ")"
   ],
   "id": "189e5e10694b2171",
   "execution_count": 14,
   "outputs": []
  },
  {
   "metadata": {
    "ExecuteTime": {
     "end_time": "2025-09-19T13:38:55.380062Z",
     "start_time": "2025-09-19T13:38:55.099066Z"
    }
   },
   "cell_type": "code",
   "source": "X_scaled = preprocessor.fit_transform(X)",
   "id": "a77c4fa82bbc8612",
   "execution_count": 15,
   "outputs": []
  },
  {
   "metadata": {
    "ExecuteTime": {
     "end_time": "2025-09-19T11:02:02.631541Z",
     "start_time": "2025-09-19T11:02:02.627370Z"
    }
   },
   "cell_type": "code",
   "source": "X_scaled",
   "id": "239737d5a21ed410",
   "execution_count": 15,
   "outputs": []
  },
  {
   "metadata": {
    "ExecuteTime": {
     "end_time": "2025-09-19T13:38:57.581978Z",
     "start_time": "2025-09-19T13:38:57.577979Z"
    }
   },
   "cell_type": "code",
   "source": "print(f\"Data Scaled successfully via Robust scaler.\\nShape of the scaled data: {X_scaled.shape}\")",
   "id": "ca55e4c40cb00bb",
   "execution_count": 16,
   "outputs": []
  },
  {
   "metadata": {},
   "cell_type": "markdown",
   "source": [
    "____\n",
    "# Train Test Split\n",
    "____"
   ],
   "id": "d5c36b7bd66fba35"
  },
  {
   "metadata": {
    "ExecuteTime": {
     "end_time": "2025-09-19T13:39:02.555491Z",
     "start_time": "2025-09-19T13:39:01.642272Z"
    }
   },
   "cell_type": "code",
   "source": [
    "y = y-1\n",
    "\n",
    "X_train, X_test, y_train, y_test = train_test_split(\n",
    "    X_scaled, \n",
    "    y, \n",
    "    test_size=0.2,\n",
    "    random_state=42, \n",
    "    stratify=y\n",
    ")"
   ],
   "id": "d8d09950a62f4202",
   "execution_count": 17,
   "outputs": []
  },
  {
   "metadata": {},
   "cell_type": "markdown",
   "source": [
    "____\n",
    "# Training Model XGBoost\n",
    "___"
   ],
   "id": "1d2caa31ab2de626"
  },
  {
   "metadata": {
    "ExecuteTime": {
     "end_time": "2025-09-19T13:39:02.560590Z",
     "start_time": "2025-09-19T13:39:02.556497Z"
    }
   },
   "cell_type": "code",
   "source": [
    "model = XGBClassifier(\n",
    "    objective='multi:softmax',\n",
    "    n_estimators=600,\n",
    "    use_label_encoder=False,\n",
    "    eval_metric='mlogloss'\n",
    "    \n",
    ")"
   ],
   "id": "feccd5ac7de98a16",
   "execution_count": 18,
   "outputs": []
  },
  {
   "metadata": {
    "ExecuteTime": {
     "end_time": "2025-09-04T07:20:42.517984Z",
     "start_time": "2025-09-04T07:18:42.965581Z"
    }
   },
   "cell_type": "code",
   "source": [
    "model.fit(X_train, y_train)\n",
    "\n",
    "print(\"Model training Complete!!\")"
   ],
   "id": "57ef76fc9bdfc3a1",
   "execution_count": 33,
   "outputs": []
  },
  {
   "metadata": {},
   "cell_type": "markdown",
   "source": [
    "____\n",
    "# Accuracy\n",
    "___ "
   ],
   "id": "7dd895dd26840799"
  },
  {
   "metadata": {
    "ExecuteTime": {
     "end_time": "2025-09-04T07:20:54.423172Z",
     "start_time": "2025-09-04T07:20:52.845770Z"
    }
   },
   "cell_type": "code",
   "source": "y_pred = model.predict(X_test)",
   "id": "e52bcd5cf3d064ff",
   "execution_count": 34,
   "outputs": []
  },
  {
   "metadata": {
    "ExecuteTime": {
     "end_time": "2025-09-04T07:20:58.224944Z",
     "start_time": "2025-09-04T07:20:56.607270Z"
    }
   },
   "cell_type": "code",
   "source": [
    "score = model.score(X_test, y_test)\n",
    "\n",
    "print(f\"The Score of our model is: {score:.2f}\")"
   ],
   "id": "91ce97220c742d73",
   "execution_count": 35,
   "outputs": []
  },
  {
   "metadata": {
    "ExecuteTime": {
     "end_time": "2025-09-04T14:45:21.282431Z",
     "start_time": "2025-09-04T14:45:21.225954Z"
    }
   },
   "cell_type": "code",
   "source": [
    "print('XGBoost Classification Reports:')\n",
    "print(classification_report(y_test, y_pred))"
   ],
   "id": "77fb8acf61c22571",
   "execution_count": 51,
   "outputs": []
  },
  {
   "metadata": {},
   "cell_type": "markdown",
   "source": [
    "____\n",
    "# Plotting Results\n",
    "___"
   ],
   "id": "d44121dd8dcae199"
  },
  {
   "metadata": {
    "ExecuteTime": {
     "end_time": "2025-09-04T07:21:01.837463Z",
     "start_time": "2025-09-04T07:21:01.827768Z"
    }
   },
   "cell_type": "code",
   "source": "conf_matrix = confusion_matrix(y_test, y_pred)",
   "id": "616f7e65eecf92e1",
   "execution_count": 36,
   "outputs": []
  },
  {
   "metadata": {
    "ExecuteTime": {
     "end_time": "2025-09-04T07:21:03.705448Z",
     "start_time": "2025-09-04T07:21:03.416407Z"
    }
   },
   "cell_type": "code",
   "source": [
    "plt.figure(figsize=(10,8))\n",
    "sns.heatmap(conf_matrix, annot=True, fmt='d', cmap='Blues')\n",
    "plt.title(\"Confusion Matrix\")\n",
    "plt.xlabel('Predicted Class')\n",
    "plt.ylabel('Actual Class')\n",
    "plt.show()"
   ],
   "id": "a26ca50fc5888348",
   "execution_count": 37,
   "outputs": []
  },
  {
   "metadata": {},
   "cell_type": "markdown",
   "source": [
    "__________________\n",
    "\n",
    "Visualizing Feature Importance"
   ],
   "id": "69b8e7373bf4b441"
  },
  {
   "metadata": {
    "ExecuteTime": {
     "end_time": "2025-09-04T09:23:24.309328Z",
     "start_time": "2025-09-04T09:23:24.305312Z"
    }
   },
   "cell_type": "code",
   "source": "feature_names = X.columns.tolist()",
   "id": "7495d96537ed4edb",
   "execution_count": 38,
   "outputs": []
  },
  {
   "metadata": {
    "ExecuteTime": {
     "end_time": "2025-09-04T09:26:32.651836Z",
     "start_time": "2025-09-04T09:26:32.639303Z"
    }
   },
   "cell_type": "code",
   "source": "feature_importances = model.feature_importances_\n",
   "id": "715c77865b24002",
   "execution_count": 39,
   "outputs": []
  },
  {
   "metadata": {
    "ExecuteTime": {
     "end_time": "2025-09-04T09:26:39.623434Z",
     "start_time": "2025-09-04T09:26:39.617699Z"
    }
   },
   "cell_type": "code",
   "source": "feature_importances",
   "id": "f7705952f4fbba42",
   "execution_count": 40,
   "outputs": []
  },
  {
   "metadata": {
    "ExecuteTime": {
     "end_time": "2025-09-04T09:27:15.372256Z",
     "start_time": "2025-09-04T09:27:15.367867Z"
    }
   },
   "cell_type": "code",
   "source": [
    "importance_df = pd.DataFrame({\n",
    "    'feature': feature_names,\n",
    "    'importance': feature_importances\n",
    "}).sort_values('importance', ascending=False)"
   ],
   "id": "51883b07ca78bc39",
   "execution_count": 42,
   "outputs": []
  },
  {
   "metadata": {
    "ExecuteTime": {
     "end_time": "2025-09-04T09:27:18.167786Z",
     "start_time": "2025-09-04T09:27:18.158191Z"
    }
   },
   "cell_type": "code",
   "source": "importance_df",
   "id": "f06b65484b2ddc0e",
   "execution_count": 43,
   "outputs": []
  },
  {
   "metadata": {
    "ExecuteTime": {
     "end_time": "2025-09-04T09:28:03.161902Z",
     "start_time": "2025-09-04T09:28:02.780177Z"
    }
   },
   "cell_type": "code",
   "source": [
    "# Plot the top 15 most important features\n",
    "plt.figure(figsize=(12, 8))\n",
    "sns.barplot(x='importance', y='feature', data=importance_df.head(15))\n",
    "plt.title('Top 15 Feature Importances')\n",
    "plt.xlabel('Importance Score')\n",
    "plt.ylabel('Feature')\n",
    "plt.show()"
   ],
   "id": "2ab5ced4d3a45b9c",
   "execution_count": 44,
   "outputs": []
  },
  {
   "metadata": {},
   "cell_type": "markdown",
   "source": [
    "____\n",
    "# Random Forest Classifier"
   ],
   "id": "9619fe8a585df9bd"
  },
  {
   "metadata": {
    "ExecuteTime": {
     "end_time": "2025-09-19T13:39:21.866054Z",
     "start_time": "2025-09-19T13:39:21.862558Z"
    }
   },
   "cell_type": "code",
   "source": "rfc_model = RandomForestClassifier(n_estimators=500, random_state=42)",
   "id": "3978ca0b56c24728",
   "execution_count": 19,
   "outputs": []
  },
  {
   "metadata": {
    "ExecuteTime": {
     "end_time": "2025-09-04T14:42:12.746218Z",
     "start_time": "2025-09-04T14:29:38.456651Z"
    }
   },
   "cell_type": "code",
   "source": [
    "rfc_model.fit(X_train, y_train)\n",
    "print(f\"RFC Model Trained!\")"
   ],
   "id": "c4fd77abe341263",
   "execution_count": 47,
   "outputs": []
  },
  {
   "metadata": {
    "ExecuteTime": {
     "end_time": "2025-09-04T14:44:04.092895Z",
     "start_time": "2025-09-04T14:43:45.253839Z"
    }
   },
   "cell_type": "code",
   "source": "rfc_y_pred = rfc_model.predict(X_test)",
   "id": "67e70eb07ce111ae",
   "execution_count": 49,
   "outputs": []
  },
  {
   "metadata": {
    "ExecuteTime": {
     "end_time": "2025-09-04T14:59:08.933213Z",
     "start_time": "2025-09-04T14:58:50.902240Z"
    }
   },
   "cell_type": "code",
   "source": [
    "rfc_score = rfc_model.score(X_test, y_test)\n",
    "\n",
    "print(f\"Thus RFC Score is: {rfc_score:.2f}\")"
   ],
   "id": "bd109a8cb9f1fdca",
   "execution_count": 60,
   "outputs": []
  },
  {
   "metadata": {},
   "cell_type": "markdown",
   "source": [
    "___\n",
    "## Classification reports for Both Models\n",
    "___"
   ],
   "id": "c2bfc1c5bb889cf8"
  },
  {
   "metadata": {},
   "cell_type": "markdown",
   "source": "RFC MODEL:",
   "id": "6d264fd38c0b2839"
  },
  {
   "metadata": {
    "ExecuteTime": {
     "end_time": "2025-09-04T14:44:49.709045Z",
     "start_time": "2025-09-04T14:44:49.654915Z"
    }
   },
   "cell_type": "code",
   "source": [
    "print('RFC Classification Reports:')\n",
    "print(classification_report(y_test, rfc_y_pred))"
   ],
   "id": "8fb97c202f0aad18",
   "execution_count": 50,
   "outputs": []
  },
  {
   "metadata": {},
   "cell_type": "markdown",
   "source": "XGBoost Model:",
   "id": "3a01e60cc6ad4b17"
  },
  {
   "metadata": {
    "ExecuteTime": {
     "end_time": "2025-09-05T02:10:16.039470Z",
     "start_time": "2025-09-05T02:10:15.968289Z"
    }
   },
   "cell_type": "code",
   "source": [
    "print('XGBoost Classification Reports:')\n",
    "print(classification_report(y_test, y_pred))"
   ],
   "id": "3dac5f80a8d9af4d",
   "execution_count": 61,
   "outputs": []
  },
  {
   "metadata": {},
   "cell_type": "markdown",
   "source": [
    "___\n",
    "## Comparing the Scores of both models with each other\n",
    "___"
   ],
   "id": "6f3f71b2f6ae088e"
  },
  {
   "metadata": {
    "ExecuteTime": {
     "end_time": "2025-09-04T14:51:13.454588Z",
     "start_time": "2025-09-04T14:51:13.434606Z"
    }
   },
   "cell_type": "code",
   "source": [
    "rfc_conf_matrix = confusion_matrix(y_test, rfc_y_pred)\n",
    "xgb_conf_matrix = confusion_matrix(y_test, y_pred)\n"
   ],
   "id": "4b1483c996049e8c",
   "execution_count": 54,
   "outputs": []
  },
  {
   "metadata": {},
   "cell_type": "markdown",
   "source": [
    "___\n",
    "XGBoost Model Confusion Mat"
   ],
   "id": "b9f258bf78dbac03"
  },
  {
   "metadata": {
    "ExecuteTime": {
     "end_time": "2025-09-04T14:54:05.853287Z",
     "start_time": "2025-09-04T14:54:05.559266Z"
    }
   },
   "cell_type": "code",
   "source": [
    "plt.figure(figsize=(10,8))\n",
    "sns.heatmap(xgb_conf_matrix, annot=True, fmt='d', cmap='Blues')\n",
    "plt.title(\"Confusion Matrix\")\n",
    "plt.xlabel('Predicted Class')\n",
    "plt.ylabel('Actual Class')\n",
    "plt.show()"
   ],
   "id": "caece834da46651f",
   "execution_count": 58,
   "outputs": []
  },
  {
   "metadata": {},
   "cell_type": "markdown",
   "source": [
    "___\n",
    "RFC Model Confusion Mat"
   ],
   "id": "1c9ab871d97574b0"
  },
  {
   "metadata": {
    "ExecuteTime": {
     "end_time": "2025-09-04T14:54:27.986153Z",
     "start_time": "2025-09-04T14:54:27.768353Z"
    }
   },
   "cell_type": "code",
   "source": [
    "plt.figure(figsize=(10,8))\n",
    "sns.heatmap(rfc_conf_matrix, annot=True, fmt='d', cmap='Blues')\n",
    "plt.title(\"Confusion Matrix\")\n",
    "plt.xlabel('Predicted Class')\n",
    "plt.ylabel('Actual Class')\n",
    "plt.show()"
   ],
   "id": "b32e582241a65cf5",
   "execution_count": 59,
   "outputs": []
  },
  {
   "metadata": {},
   "cell_type": "markdown",
   "source": [
    "___\n",
    "# Conclusion\n",
    "\n",
    "- RFC MODEL:\n",
    "    - Theoretically better for small data sets.\n",
    "    - Accuracy predicted is around 0.96\n",
    "    - Model Training Time: 12 Minutes\n",
    "\n",
    "- XGBoost Model:\n",
    "    - Theoreticallt better for large data sets like the one used in this task\n",
    "    - Accuracy predicted is around 0.95\n",
    "    - Model Training Time: 18 Seconds\n",
    "\n",
    "\n",
    "### In a Nutshell, we will go for the XGBoost Model as it takes significantly lesser time to train the said model and to chase an imporvement of 1% is not worth the resources and the time for RFC Model \n",
    "___"
   ],
   "id": "43f00b3ccd0a1c5b"
  },
  {
   "metadata": {},
   "cell_type": "markdown",
   "source": [
    "___\n",
    "# HyperTuning XGBoost\n",
    "___"
   ],
   "id": "d985de56d4f48ada"
  },
  {
   "metadata": {
    "ExecuteTime": {
     "end_time": "2025-09-19T13:39:51.623434Z",
     "start_time": "2025-09-19T13:39:51.618588Z"
    }
   },
   "cell_type": "code",
   "source": [
    "# Defining our search space for the hyperparameters\n",
    "\n",
    "param_distribution = {\n",
    "    'n_estimators':     sp_randint(500, 700),\n",
    "    'learning_rate':    [0.05, 0.1, 0.2],\n",
    "    'max_depth':        sp_randint(3,10),\n",
    "    'subsample':        [0.6, 0.8, 1.0],\n",
    "    'colsample_bytree': [0.6, 0.8, 1.0]\n",
    "}"
   ],
   "id": "98c42c680b633bc",
   "execution_count": 20,
   "outputs": []
  },
  {
   "metadata": {
    "ExecuteTime": {
     "end_time": "2025-09-19T13:39:59.150646Z",
     "start_time": "2025-09-19T13:39:59.146500Z"
    }
   },
   "cell_type": "code",
   "source": [
    "# Using the same XGBoost Instance defined above\n",
    "\n",
    "random_search = RandomizedSearchCV(\n",
    "    estimator=model,\n",
    "    param_distributions=param_distribution,\n",
    "    n_iter=30,\n",
    "    cv=3,\n",
    "    scoring='f1_macro',\n",
    "    verbose=2,\n",
    "    n_jobs=-1\n",
    ")"
   ],
   "id": "d05b06985e735003",
   "execution_count": 21,
   "outputs": []
  },
  {
   "metadata": {
    "ExecuteTime": {
     "end_time": "2025-09-19T15:03:13.113488Z",
     "start_time": "2025-09-19T13:40:02.297005Z"
    }
   },
   "cell_type": "code",
   "source": "random_search.fit(X_train, y_train)",
   "id": "18bf996b4f896ec8",
   "execution_count": 22,
   "outputs": []
  },
  {
   "metadata": {
    "ExecuteTime": {
     "end_time": "2025-09-19T15:10:24.203314Z",
     "start_time": "2025-09-19T15:10:24.197970Z"
    }
   },
   "cell_type": "code",
   "source": [
    "print(f\"Best parameters found: {random_search.best_params_}\")\n",
    "print(f\"Best Cross Validation F-1 Score: {random_search.best_score_}\")"
   ],
   "id": "c1ec0a1e6be8ab5a",
   "execution_count": 23,
   "outputs": []
  },
  {
   "metadata": {
    "ExecuteTime": {
     "end_time": "2025-09-19T15:10:28.255038Z",
     "start_time": "2025-09-19T15:10:28.251840Z"
    }
   },
   "cell_type": "code",
   "source": "best_model = random_search.best_estimator_",
   "id": "46c43f588b97a9ca",
   "execution_count": 24,
   "outputs": []
  },
  {
   "metadata": {
    "ExecuteTime": {
     "end_time": "2025-09-19T15:44:17.559054Z",
     "start_time": "2025-09-19T15:44:14.195702Z"
    }
   },
   "cell_type": "code",
   "source": "print(f\"Score for hyper tuned XGBoost Model is: {best_model.score(X_test, y_test):.2f}\")\n",
   "id": "4c5dbedf9fe86f5",
   "execution_count": 30,
   "outputs": []
  },
  {
   "metadata": {},
   "cell_type": "markdown",
   "source": [
    "___\n",
    "# HyperTuning Random Forest Classifier\n",
    "___"
   ],
   "id": "f554860544573cf3"
  },
  {
   "metadata": {
    "ExecuteTime": {
     "end_time": "2025-09-19T15:11:20.113790Z",
     "start_time": "2025-09-19T15:11:20.108323Z"
    }
   },
   "cell_type": "code",
   "source": [
    "rfc_param_distributions = {\n",
    "    'n_estimators': sp_randint(200, 500),\n",
    "    'max_depth': sp_randint(3, 15),\n",
    "    'min_samples_leaf': sp_randint(1, 10),\n",
    "    'max_features': ['sqrt', 'log2', None]\n",
    "}\n",
    "\n",
    "random_search_rfc = RandomizedSearchCV(\n",
    "    estimator=rfc_model,\n",
    "    param_distributions=rfc_param_distributions,\n",
    "    n_iter=30,\n",
    "    cv=3,\n",
    "    scoring='f1_macro',\n",
    "    verbose=2,\n",
    "    n_jobs=-1\n",
    ")"
   ],
   "id": "a13a560e66588add",
   "execution_count": 28,
   "outputs": []
  },
  {
   "metadata": {
    "ExecuteTime": {
     "end_time": "2025-09-19T15:44:03.297641Z",
     "start_time": "2025-09-19T15:11:20.717313Z"
    }
   },
   "cell_type": "code",
   "source": "random_search_rfc.fit(X_train,y_train)",
   "id": "3e61d89048fd0ca8",
   "execution_count": 29,
   "outputs": []
  },
  {
   "metadata": {},
   "cell_type": "markdown",
   "source": [
    "___\n",
    "# Conclusion\n",
    "\n",
    "- RFC MODEL:\n",
    "    - Not feasible to perform on a Laptop as it will take Approx 19.5 hours to find the best model with 90 fits \n",
    "\n",
    "- XGBoost Model:\n",
    "    - Best Model with 0.97 of scoring accuracy and its stats given below:\n",
    "    - 'colsample_bytree': 1.0, 'learning_rate': 0.2, 'max_depth': 9, 'n_estimators': 648, 'subsample': 0.6\n",
    "\n",
    "\n",
    "### In a Nutshell, we will go for the XGBoost Model as it takes significantly lesser time to train the said model and to chase an imporvement of 1% is not worth the resources and the time for RFC Model \n",
    "___"
   ],
   "id": "8509ab9ae9e0aa0d"
  },
  {
   "metadata": {
    "ExecuteTime": {
     "end_time": "2025-09-19T15:55:31.201846Z",
     "start_time": "2025-09-19T15:55:31.198654Z"
    }
   },
   "cell_type": "code",
   "source": [
    "pipline = Pipeline(steps=[\n",
    "    (\"preprocessor\", preprocessor),\n",
    "    (\"model\", best_model)\n",
    "])"
   ],
   "id": "fdc437be9288c5f5",
   "execution_count": 37,
   "outputs": []
  },
  {
   "metadata": {
    "ExecuteTime": {
     "end_time": "2025-09-19T15:56:09.712035Z",
     "start_time": "2025-09-19T15:56:09.702040Z"
    }
   },
   "cell_type": "code",
   "source": "df.head(1)",
   "id": "a37ac03daf89396f",
   "execution_count": 40,
   "outputs": []
  },
  {
   "metadata": {
    "ExecuteTime": {
     "end_time": "2025-09-19T15:56:15.319386Z",
     "start_time": "2025-09-19T15:56:15.312386Z"
    }
   },
   "cell_type": "code",
   "source": "df.columns",
   "id": "585f4be1b5fb71d7",
   "execution_count": 41,
   "outputs": []
  },
  {
   "metadata": {
    "ExecuteTime": {
     "end_time": "2025-09-19T15:59:26.531393Z",
     "start_time": "2025-09-19T15:59:26.525150Z"
    }
   },
   "cell_type": "code",
   "source": [
    "# This is a critical step for your pipeline to work correctly\n",
    "columns = ['Elevation', 'Aspect', 'Slope', 'Horizontal_Distance_To_Hydrology',\n",
    "           'Vertical_Distance_To_Hydrology', 'Horizontal_Distance_To_Roadways',\n",
    "           'Hillshade_9am', 'Hillshade_Noon', 'Hillshade_3pm',\n",
    "           'Horizontal_Distance_To_Fire_Points', 'Wilderness_Area1',\n",
    "           'Wilderness_Area2', 'Wilderness_Area3', 'Wilderness_Area4',\n",
    "           'Soil_Type1', 'Soil_Type2', 'Soil_Type3', 'Soil_Type4', 'Soil_Type5',\n",
    "           'Soil_Type6', 'Soil_Type7', 'Soil_Type8', 'Soil_Type9', 'Soil_Type10',\n",
    "           'Soil_Type11', 'Soil_Type12', 'Soil_Type13', 'Soil_Type14',\n",
    "           'Soil_Type15', 'Soil_Type16', 'Soil_Type17', 'Soil_Type18',\n",
    "           'Soil_Type19', 'Soil_Type20', 'Soil_Type21', 'Soil_Type22',\n",
    "           'Soil_Type23', 'Soil_Type24', 'Soil_Type25', 'Soil_Type26',\n",
    "           'Soil_Type27', 'Soil_Type28', 'Soil_Type29', 'Soil_Type30',\n",
    "           'Soil_Type31', 'Soil_Type32', 'Soil_Type33', 'Soil_Type34',\n",
    "           'Soil_Type35', 'Soil_Type36', 'Soil_Type37', 'Soil_Type38',\n",
    "           'Soil_Type39', 'Soil_Type40']\n",
    "\n",
    "# Create a list of hypothetical values for a new entry\n",
    "# These values are different from your training example\n",
    "new_values = [\n",
    "    [2900, 150, 8, 100, 20, 1500, 240, 230, 140, 4500, 0, 1, 0, 0, 0, 0, 0, 0, 0, 0, 0, 0, 0, 0, 0, 0, 0, 0, 0, 0, 0, 0, 0, 0, 0, 0, 0, 0, 0, 0, 0, 0, 0, 1, 0, 0, 0, 0, 0, 0, 0, 0, 0, 0]\n",
    "]\n",
    "\n",
    "# Create the new DataFrame\n",
    "new_entry_df = pd.DataFrame(new_values, columns=columns)\n",
    "\n",
    "# Now you can use this DataFrame to make a prediction\n",
    "# For example, if your pipeline is called 'pipeline':\n",
    "# prediction = pipeline.predict(new_entry_df.drop('Cover_Type', axis=1))\n",
    "\n"
   ],
   "id": "8bc9ce6365d25fed",
   "execution_count": 43,
   "outputs": []
  },
  {
   "metadata": {
    "ExecuteTime": {
     "end_time": "2025-09-19T15:59:48.520243Z",
     "start_time": "2025-09-19T15:59:48.490287Z"
    }
   },
   "cell_type": "code",
   "source": "prediction = pipline.predict(new_entry_df)",
   "id": "bc24e81e96b352ae",
   "execution_count": 44,
   "outputs": []
  },
  {
   "metadata": {
    "ExecuteTime": {
     "end_time": "2025-09-19T15:59:58.528934Z",
     "start_time": "2025-09-19T15:59:58.524976Z"
    }
   },
   "cell_type": "code",
   "source": "prediction[0]",
   "id": "918f320343513ebb",
   "execution_count": 46,
   "outputs": []
  },
  {
   "metadata": {
    "ExecuteTime": {
     "end_time": "2025-09-19T16:02:03.905065Z",
     "start_time": "2025-09-19T16:02:03.635900Z"
    }
   },
   "cell_type": "code",
   "source": "joblib.dump(pipline, \"Forest_Cover_Type_predictor.joblib\")",
   "id": "550ef2533b6c2ae4",
   "execution_count": 48,
   "outputs": []
  },
  {
   "metadata": {
    "ExecuteTime": {
     "end_time": "2025-09-19T16:41:45.361886Z",
     "start_time": "2025-09-19T16:41:45.294879Z"
    }
   },
   "cell_type": "code",
   "source": "X",
   "id": "822bc3fbb4abea06",
   "execution_count": 50,
   "outputs": []
  },
  {
   "metadata": {
    "ExecuteTime": {
     "end_time": "2025-09-19T16:43:58.547469Z",
     "start_time": "2025-09-19T16:43:58.537078Z"
    }
   },
   "cell_type": "code",
   "source": "y",
   "id": "2febede8f7fb630",
   "execution_count": 51,
   "outputs": []
  },
  {
   "metadata": {},
   "cell_type": "code",
   "execution_count": null,
   "source": "",
   "id": "184aae0dab8ad98f",
   "outputs": []
  }
 ],
 "metadata": {
  "kernelspec": {
   "display_name": "Python 3 (ipykernel)",
   "language": "python",
   "name": "python3"
  },
  "language_info": {
   "codemirror_mode": {
    "name": "ipython",
    "version": 3
   },
   "file_extension": ".py",
   "mimetype": "text/x-python",
   "name": "python",
   "nbconvert_exporter": "python",
   "pygments_lexer": "ipython3",
   "version": "3.12.3"
  }
 },
 "nbformat": 4,
 "nbformat_minor": 5
}
